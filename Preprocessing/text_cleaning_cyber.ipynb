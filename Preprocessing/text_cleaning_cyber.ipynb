{
  "nbformat": 4,
  "nbformat_minor": 0,
  "metadata": {
    "colab": {
      "provenance": []
    },
    "kernelspec": {
      "name": "python3",
      "display_name": "Python 3"
    },
    "language_info": {
      "name": "python"
    }
  },
  "cells": [
    {
      "cell_type": "code",
      "execution_count": null,
      "metadata": {
        "id": "fVT4btLjjDlA",
        "colab": {
          "base_uri": "https://localhost:8080/"
        },
        "outputId": "7455c65b-c210-4b02-c904-6089c8c8e655"
      },
      "outputs": [
        {
          "output_type": "stream",
          "name": "stdout",
          "text": [
            "Mounted at /content/drive\n"
          ]
        }
      ],
      "source": [
        "# prompt: connect to drive code\n",
        "\n",
        "from google.colab import drive\n",
        "drive.mount('/content/drive')\n"
      ]
    },
    {
      "cell_type": "code",
      "source": [
        "import pandas as pd\n",
        "import nltk\n",
        "from nltk.corpus import stopwords\n",
        "from nltk.stem import PorterStemmer\n",
        "import re"
      ],
      "metadata": {
        "id": "VqswRURajyMy"
      },
      "execution_count": null,
      "outputs": []
    },
    {
      "cell_type": "code",
      "source": [
        "nltk.download('stopwords')"
      ],
      "metadata": {
        "colab": {
          "base_uri": "https://localhost:8080/"
        },
        "id": "scIlyamaj4tR",
        "outputId": "e9ff20e4-f7fe-4c5a-d6d7-70ea48b52f8e"
      },
      "execution_count": null,
      "outputs": [
        {
          "output_type": "stream",
          "name": "stderr",
          "text": [
            "[nltk_data] Downloading package stopwords to /root/nltk_data...\n",
            "[nltk_data]   Package stopwords is already up-to-date!\n"
          ]
        },
        {
          "output_type": "execute_result",
          "data": {
            "text/plain": [
              "True"
            ]
          },
          "metadata": {},
          "execution_count": 11
        }
      ]
    },
    {
      "cell_type": "code",
      "source": [
        "file_path = r'/content/drive/MyDrive/Hackathon 24/train_updated - train.csv'\n",
        "data = pd.read_csv(file_path)"
      ],
      "metadata": {
        "id": "1sf9ioJcj-J9"
      },
      "execution_count": null,
      "outputs": []
    },
    {
      "cell_type": "code",
      "source": [
        "stop_words = set(stopwords.words('english'))\n",
        "stemmer = PorterStemmer()\n"
      ],
      "metadata": {
        "id": "_Ot_iAo-kJn1"
      },
      "execution_count": null,
      "outputs": []
    },
    {
      "cell_type": "code",
      "source": [
        "def preprocess_text(text):\n",
        "    # Text cleaning: remove special characters and convert to lowercase\n",
        "    text = re.sub(r'\\W', ' ', str(text))\n",
        "    text = text.lower()\n",
        "\n",
        "    # Tokenization\n",
        "    tokens = text.split()\n",
        "\n",
        "    # Stop word removal and stemming\n",
        "    processed_tokens = [\n",
        "        stemmer.stem(word) for word in tokens if word not in stop_words\n",
        "    ]\n",
        "\n",
        "    # Join tokens back into a single string\n",
        "    return ' '.join(processed_tokens)"
      ],
      "metadata": {
        "id": "l_zyksg8kX6o"
      },
      "execution_count": null,
      "outputs": []
    },
    {
      "cell_type": "code",
      "source": [
        "# Apply preprocessing to the 'crimeaditionalinfo' column\n",
        "data['processed_text'] = data['crimeaditionalinfo'].apply(preprocess_text)"
      ],
      "metadata": {
        "id": "6fPhwX92kfKn"
      },
      "execution_count": null,
      "outputs": []
    },
    {
      "cell_type": "code",
      "source": [
        "# Display the processed data\n",
        "print(data[['crimeaditionalinfo', 'processed_text']].head())"
      ],
      "metadata": {
        "colab": {
          "base_uri": "https://localhost:8080/"
        },
        "id": "W0Sf4DXnkfNN",
        "outputId": "e62074d2-6a8b-4343-ad30-e1d409e220b9"
      },
      "execution_count": null,
      "outputs": [
        {
          "output_type": "stream",
          "name": "stdout",
          "text": [
            "                                  crimeaditionalinfo  \\\n",
            "0  I had continue received random calls and abusi...   \n",
            "1  The above fraudster is continuously messaging ...   \n",
            "2  He is acting like a police and demanding for m...   \n",
            "3  In apna Job I have applied for job interview f...   \n",
            "4  I received a call from lady stating that she w...   \n",
            "\n",
            "                                      processed_text  \n",
            "0  continu receiv random call abus messag whatsap...  \n",
            "1  fraudster continu messag ask pay money send fa...  \n",
            "2  act like polic demand money ad section text me...  \n",
            "3  apna job appli job interview telecal resourc m...  \n",
            "4  receiv call ladi state send new phone vivo rec...  \n"
          ]
        }
      ]
    },
    {
      "cell_type": "code",
      "source": [
        "data.to_csv('/content/drive/MyDrive/Hackathon 24/processed_test.csv', index=False)"
      ],
      "metadata": {
        "id": "Kj9ifs7ukfQy"
      },
      "execution_count": null,
      "outputs": []
    }
  ]
}